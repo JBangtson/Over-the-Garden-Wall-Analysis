{
 "cells": [
  {
   "cell_type": "code",
   "execution_count": 6,
   "metadata": {},
   "outputs": [],
   "source": [
    "import pandas as pd\n",
    "\n",
    "# Read the text file\n",
    "with open('data/OtGW_transcript.txt', 'r', encoding='utf-8') as file:\n",
    "    text = file.read()\n",
    "\n",
    "# Split into episodes and lines\n",
    "episodes = text.split('\\n\\n')\n",
    "\n",
    "# Create lists to store data\n",
    "char_names = []\n",
    "episode_nums = []\n",
    "lines = []\n",
    "\n",
    "# Parse each episode\n",
    "for episode in episodes:\n",
    "    if episode.strip():  # Skip empty episodes\n",
    "        lines_in_episode = episode.split('\\n')\n",
    "        episode_num = lines_in_episode[0]  # First line contains episode number\n",
    "        \n",
    "        # Process each line of dialogue\n",
    "        for line in lines_in_episode[1:]:  # Skip episode number line\n",
    "            if ':' in line:\n",
    "                char_name, dialogue = line.split(':', 1)\n",
    "                char_names.append(char_name.strip())\n",
    "                episode_nums.append(episode_num.strip())\n",
    "                lines.append(dialogue.strip())\n",
    "\n",
    "# Create DataFrame\n",
    "df = pd.DataFrame({\n",
    "    'char_name': char_names,\n",
    "    'episode': episode_nums,\n",
    "    'line': lines\n",
    "})\n"
   ]
  },
  {
   "cell_type": "markdown",
   "metadata": {},
   "source": [
    "### Basic Cleaning"
   ]
  },
  {
   "cell_type": "code",
   "execution_count": 36,
   "metadata": {},
   "outputs": [],
   "source": [
    "\n",
    "df = df[~df['char_name'].str.contains('Chapter', na=False)]\n",
    "df = df[~df['char_name'].str.startswith('[', na=False)]\n",
    "\n",
    "# Remove text within square brackets from the 'line' column while keeping other text\n",
    "df['line'] = df['line'].str.replace(r'\\[.*?\\]', '', regex=True).str.strip()\n",
    "df['line'] = df['line'].str.replace(r'\\(.*?\\)', '', regex=True).str.strip()\n",
    "\n",
    "# Remove '>>' from the start of character names\n",
    "df['char_name'] = df['char_name'].str.replace(r'^>>\\s*', '', regex=True)\n",
    "\n",
    "\n",
    "df['char_name'] = df['char_name'].str.replace(r'\\(.*?\\)', '', regex=True).str.strip()\n",
    "# Remove rows where 'line' is empty or null after cleaning\n",
    "df = df[df['line'].notna() & (df['line'] != '')]\n",
    "\n",
    "\n",
    "# Reset the index after filtering\n",
    "df = df.reset_index(drop=True)\n"
   ]
  },
  {
   "cell_type": "markdown",
   "metadata": {},
   "source": [
    "## Character Names Cleaning"
   ]
  },
  {
   "cell_type": "code",
   "execution_count": 45,
   "metadata": {},
   "outputs": [
    {
     "name": "stdout",
     "output_type": "stream",
     "text": [
      "All unique character names:\n",
      "['Adelaide', 'All', 'Angel', 'Angel Sings', 'Auntie Whispers', 'Auxiliary Committee', 'Beast', 'Beatrice', 'Beatrice & Fred the Horse', \"Beatrice's Mom\", 'Both', 'Braids Villager', 'Carriage Driver', 'Cherub', 'Cleaning frog crew member', 'Commitee Sings', 'Committee Number Three', 'Enoch', 'Fred the Horse', 'Frog', 'Frog Bassoon Player', 'Frog Constable', 'Frog Crewmember', 'Frog Crowd', 'Frog Lady', 'George Washington', 'George Washington sings', 'George Washingtong continues singing', 'Gramps Villager', 'Gramps Villager, offscreen', 'Greg', 'Greg and Beatrice', 'High School Boy', 'Jason', 'Jason F', 'Jason Funderberker', 'Jimmy', 'Kathleen', 'Kathleen and Rhondi', 'Larry', 'Lorna', 'Margueritte Grey', 'Mrs. Daniels', 'Narrator', 'Nerdy Girl', 'Old North Wind', 'Partygoer', 'Peacock', 'Pilgrim Pumpkin', 'Pilgrim Villager', 'Pilgrim Villager, nodding', 'Police Officer', 'Ponytails Villager', 'Queen of the Clouds', 'Quincy Endicott', 'Quincy Endicott & Margueritte Grey', 'Reception Committee', 'Reception committee', 'Rhondi', 'Sara', 'Singing', 'Student', 'Tavern Lady', 'Tavern Lady, modeled after Betty Boop', 'The Apprentice', 'The Baker', 'The Beast', 'The Butcher', 'The Highwayman', 'The Master', 'The Midwife', 'The Old North Wind SIngs', 'The Tailor', 'The Toy Maker', 'The Woodsman', \"The Woodsman's Daughter\", 'The Wooodsman', 'The song kicks up with the first verse once they look inside the barn', 'Unknown Voice', 'Villager', 'Villagers', 'Villagers, cheering', 'Wirt', 'Wirt and Greg', 'Woodsman']\n"
     ]
    }
   ],
   "source": [
    "# Print all unique character names\n",
    "print(\"All unique character names:\")\n",
    "print(sorted(df['char_name'].unique()))\n"
   ]
  },
  {
   "cell_type": "markdown",
   "metadata": {},
   "source": [
    "### Wirt"
   ]
  },
  {
   "cell_type": "code",
   "execution_count": 39,
   "metadata": {},
   "outputs": [
    {
     "name": "stdout",
     "output_type": "stream",
     "text": [
      "Character names containing 'Wirt':\n",
      "['Wirt', 'Wirt and Greg']\n"
     ]
    }
   ],
   "source": [
    "# Print character names containing 'wirt'\n",
    "print(\"Character names containing 'Wirt':\")\n",
    "print(sorted(df[df['char_name'].str.contains('wirt', case=False, na=False)]['char_name'].unique()))\n"
   ]
  },
  {
   "cell_type": "code",
   "execution_count": 33,
   "metadata": {},
   "outputs": [
    {
     "name": "stdout",
     "output_type": "stream",
     "text": [
      "\n",
      "Unique character names containing 'Wirt' after standardization:\n",
      "['Wirt', 'Wirt & Greg', 'Wirt and Greg']\n"
     ]
    }
   ],
   "source": [
    "# Standardize variations of 'Wirt' to just 'Wirt'\n",
    "wirt_variations = [' Wirt', 'BWirt', '>>Wirt', 'Wirt joins in', 'Wirt whispers in dread', 'Wirt, backing away', 'Wirt, halfway out the ditch, lying in the dirt', 'Wirt, hunched over and out of breath', 'Wirt, offscreen', 'Wirt, waking from his sleep']\n",
    "df.loc[df['char_name'].str.contains('|'.join(wirt_variations), case=False, na=False), 'char_name'] = 'Wirt'\n",
    "\n",
    "# Print to verify changes\n",
    "print(\"\\nUnique character names containing 'Wirt' after standardization:\")\n",
    "print(sorted(df[df['char_name'].str.contains('wirt', case=False, na=False)]['char_name'].unique()))\n"
   ]
  },
  {
   "cell_type": "markdown",
   "metadata": {},
   "source": [
    "### Greg"
   ]
  },
  {
   "cell_type": "code",
   "execution_count": 34,
   "metadata": {},
   "outputs": [
    {
     "name": "stdout",
     "output_type": "stream",
     "text": [
      "Character names containing 'Greg':\n",
      "[\"Beatrice, sitting on Greg's teapot hat\", 'Greg', 'Greg and Beatrice', 'Wirt & Greg', 'Wirt and Greg']\n"
     ]
    }
   ],
   "source": [
    "# Print character names containing 'wirt'\n",
    "print(\"Character names containing 'Greg':\")\n",
    "print(sorted(df[df['char_name'].str.contains('greg', case=False, na=False)]['char_name'].unique()))\n"
   ]
  },
  {
   "cell_type": "code",
   "execution_count": 35,
   "metadata": {},
   "outputs": [
    {
     "name": "stdout",
     "output_type": "stream",
     "text": [
      "\n",
      "Unique character names containing 'Greg' after standardization:\n",
      "[\"Beatrice, sitting on Greg's teapot hat\", 'Greg', 'Greg and Beatrice', 'Wirt & Greg', 'Wirt and Greg']\n"
     ]
    },
    {
     "name": "stderr",
     "output_type": "stream",
     "text": [
      "C:\\Users\\justi\\AppData\\Local\\Temp\\ipykernel_18204\\2766800081.py:3: UserWarning: This pattern is interpreted as a regular expression, and has match groups. To actually get the groups, use str.extract.\n",
      "  df.loc[df['char_name'].str.contains('|'.join(greg_variations), case=False, na=False), 'char_name'] = 'Greg'\n"
     ]
    }
   ],
   "source": [
    "# Standardize variations of 'Greg' to just 'Greg'\n",
    "greg_variations = [f'Greg (threateningly)', 'Greg starts singing', '>>Greg', 'Greg, after thinking for a moment', 'Greg, crawling out of his ditch', 'Greg (threateningly)', 'Greg (threateningly)']\n",
    "df.loc[df['char_name'].str.contains('|'.join(greg_variations), case=False, na=False), 'char_name'] = 'Greg'\n",
    "\n",
    "# Print to verify changes\n",
    "print(\"\\nUnique character names containing 'Greg' after standardization:\")\n",
    "print(sorted(df[df['char_name'].str.contains('greg', case=False, na=False)]['char_name'].unique()))\n"
   ]
  },
  {
   "cell_type": "markdown",
   "metadata": {},
   "source": [
    "### Wirt and Greg"
   ]
  },
  {
   "cell_type": "code",
   "execution_count": 37,
   "metadata": {},
   "outputs": [
    {
     "name": "stdout",
     "output_type": "stream",
     "text": [
      "Character names containing 'Wirt and Greg':\n",
      "[\"Beatrice, sitting on Greg's teapot hat\", 'Greg', 'Greg and Beatrice', 'Wirt & Greg', 'Wirt and Greg']\n"
     ]
    }
   ],
   "source": [
    "# Print character names containing 'wirt'\n",
    "print(\"Character names containing 'Wirt and Greg':\")\n",
    "print(sorted(df[df['char_name'].str.contains('greg', case=False, na=False)]['char_name'].unique()))\n"
   ]
  },
  {
   "cell_type": "code",
   "execution_count": 38,
   "metadata": {},
   "outputs": [
    {
     "name": "stdout",
     "output_type": "stream",
     "text": [
      "\n",
      "Unique character names containing 'Greg' after standardization:\n",
      "[\"Beatrice, sitting on Greg's teapot hat\", 'Greg', 'Greg and Beatrice', 'Wirt and Greg']\n"
     ]
    }
   ],
   "source": [
    "# Standardize variations of 'Greg' to just 'Greg'\n",
    "greg_variations = [f'Wirt & Greg']\n",
    "df.loc[df['char_name'].str.contains('|'.join(greg_variations), case=False, na=False), 'char_name'] = 'Wirt and Greg'\n",
    "\n",
    "# Print to verify changes\n",
    "print(\"\\nUnique character names containing 'Greg' after standardization:\")\n",
    "print(sorted(df[df['char_name'].str.contains('greg', case=False, na=False)]['char_name'].unique()))\n"
   ]
  },
  {
   "cell_type": "markdown",
   "metadata": {},
   "source": [
    "### Beatrice"
   ]
  },
  {
   "cell_type": "code",
   "execution_count": 40,
   "metadata": {},
   "outputs": [
    {
     "name": "stdout",
     "output_type": "stream",
     "text": [
      "Character names containing 'Beatrice':\n",
      "['Beatrice', 'Beatrice & Fred the Horse', \"Beatrice's Mom\", \"Beatrice's Mother\", \"Beatrice's mom\", 'Beatrice, backing away', 'Beatrice, flying', 'Beatrice, from atop a branch', 'Beatrice, from within the bush', 'Beatrice, offscreen', 'Beatrice, on the ground by the crops', \"Beatrice, sitting on Greg's teapot hat\", 'Beatrice, speaking to the horse', 'Beatrice, taking off', 'Greg and Beatrice']\n"
     ]
    }
   ],
   "source": [
    "# Print character names containing 'wirt'\n",
    "print(\"Character names containing 'Beatrice':\")\n",
    "print(sorted(df[df['char_name'].str.contains('beatrice', case=False, na=False)]['char_name'].unique()))\n"
   ]
  },
  {
   "cell_type": "code",
   "execution_count": 42,
   "metadata": {},
   "outputs": [
    {
     "name": "stdout",
     "output_type": "stream",
     "text": [
      "\n",
      "Unique character names containing 'Beatrice' after standardization:\n",
      "['Beatrice', 'Beatrice & Fred the Horse', \"Beatrice's Mom\", \"Beatrice's Mother\", \"Beatrice's mom\", 'Greg and Beatrice']\n"
     ]
    }
   ],
   "source": [
    "# Standardize variations of 'Beatrice' to just 'Beatrice'\n",
    "beatrice_variations = ['Beatrice, backing away', 'Beatrice, flying', 'Beatrice, from atop a branch', 'Beatrice, from within the bush', 'Beatrice, offscreen', 'Beatrice, on the ground by the crops', \"Beatrice, sitting on Greg's teapot hat\", 'Beatrice, speaking to the horse', 'Beatrice, taking off']\n",
    "df.loc[df['char_name'].str.contains('|'.join(beatrice_variations), case=False, na=False), 'char_name'] = 'Beatrice'\n",
    "\n",
    "# Print to verify changes\n",
    "print(\"\\nUnique character names containing 'Beatrice' after standardization:\")\n",
    "print(sorted(df[df['char_name'].str.contains('beatrice', case=False, na=False)]['char_name'].unique()))\n"
   ]
  },
  {
   "cell_type": "markdown",
   "metadata": {},
   "source": [
    "### Beatrice's Mom"
   ]
  },
  {
   "cell_type": "code",
   "execution_count": 43,
   "metadata": {},
   "outputs": [
    {
     "name": "stdout",
     "output_type": "stream",
     "text": [
      "Character names containing 'Beatrice's Mom':\n",
      "['Beatrice', 'Beatrice & Fred the Horse', \"Beatrice's Mom\", \"Beatrice's Mother\", \"Beatrice's mom\", 'Greg and Beatrice']\n"
     ]
    }
   ],
   "source": [
    "# Print character names containing 'wirt'\n",
    "print(\"Character names containing 'Beatrice's Mom':\")\n",
    "print(sorted(df[df['char_name'].str.contains('beatrice', case=False, na=False)]['char_name'].unique()))\n"
   ]
  },
  {
   "cell_type": "code",
   "execution_count": 44,
   "metadata": {},
   "outputs": [
    {
     "name": "stdout",
     "output_type": "stream",
     "text": [
      "\n",
      "Unique character names containing 'Beatrice' after standardization:\n",
      "['Beatrice', 'Beatrice & Fred the Horse', \"Beatrice's Mom\", 'Greg and Beatrice']\n"
     ]
    }
   ],
   "source": [
    "# Standardize variations of 'Beatrice' to just 'Beatrice'\n",
    "beatrice_variations = [\"Beatrice's Mother\", \"Beatrice's mom\"]\n",
    "df.loc[df['char_name'].str.contains('|'.join(beatrice_variations), case=False, na=False), 'char_name'] = \"Beatrice's Mom\"\n",
    "\n",
    "# Print to verify changes\n",
    "print(\"\\nUnique character names containing 'Beatrice' after standardization:\")\n",
    "print(sorted(df[df['char_name'].str.contains('beatrice', case=False, na=False)]['char_name'].unique()))\n"
   ]
  },
  {
   "cell_type": "markdown",
   "metadata": {},
   "source": [
    "## Save to CSV"
   ]
  },
  {
   "cell_type": "code",
   "execution_count": 47,
   "metadata": {},
   "outputs": [
    {
     "name": "stdout",
     "output_type": "stream",
     "text": [
      "Data saved to cleaned_over_the_garden_wall_dialogue.csv\n"
     ]
    }
   ],
   "source": [
    "# Save the cleaned dataframe to a CSV file\n",
    "df.to_csv('data/cleaned_over_the_garden_wall_dialogue.csv', index=False)\n",
    "print(\"Data saved to cleaned_over_the_garden_wall_dialogue.csv\")\n"
   ]
  }
 ],
 "metadata": {
  "kernelspec": {
   "display_name": "Python 3",
   "language": "python",
   "name": "python3"
  },
  "language_info": {
   "codemirror_mode": {
    "name": "ipython",
    "version": 3
   },
   "file_extension": ".py",
   "mimetype": "text/x-python",
   "name": "python",
   "nbconvert_exporter": "python",
   "pygments_lexer": "ipython3",
   "version": "3.12.6"
  }
 },
 "nbformat": 4,
 "nbformat_minor": 2
}
