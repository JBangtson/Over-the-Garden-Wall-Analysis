{
 "cells": [
  {
   "cell_type": "code",
   "execution_count": 270,
   "metadata": {},
   "outputs": [],
   "source": [
    "import pandas as pd\n",
    "\n",
    "# Read the text file\n",
    "with open('data/OtGW_transcript.txt', 'r', encoding='utf-8') as file:\n",
    "    text = file.read()\n",
    "\n",
    "# Split into episodes and lines\n",
    "episodes = text.split('\\n\\nChapter')  # Split on chapter boundaries\n",
    "\n",
    "# Create lists to store data\n",
    "char_names = []\n",
    "episode_nums = []\n",
    "lines = []\n",
    "\n",
    "# Parse each episode\n",
    "for episode in episodes:\n",
    "    if episode.strip():  # Skip empty episodes\n",
    "        lines_in_episode = episode.split('\\n')\n",
    "        \n",
    "        # Extract episode number from first line\n",
    "        if episode.startswith('Chapter'):\n",
    "            episode_num = lines_in_episode[0]  # First line is full chapter heading\n",
    "        else:\n",
    "            episode_num = 'Chapter' + lines_in_episode[0]  # Need to add 'Chapter' back\n",
    "            \n",
    "        # Process each line of dialogue\n",
    "        current_char = None\n",
    "        current_dialogue = []\n",
    "        \n",
    "        for line in lines_in_episode[1:]:  # Skip episode number line\n",
    "            if ':' in line:\n",
    "                # If we have accumulated dialogue from previous character, save it\n",
    "                if current_char and current_dialogue:\n",
    "                    char_names.append(current_char)\n",
    "                    episode_nums.append(episode_num.strip())\n",
    "                    lines.append(' '.join(current_dialogue))\n",
    "                \n",
    "                # Start new character dialogue\n",
    "                current_char, dialogue = line.split(':', 1)\n",
    "                current_char = current_char.strip()\n",
    "                current_dialogue = [dialogue.strip()]\n",
    "            else:\n",
    "                # Continue previous character's dialogue\n",
    "                if current_char and line.strip():\n",
    "                    current_dialogue.append(line.strip())\n",
    "        \n",
    "        # Don't forget to add the last character's dialogue\n",
    "        if current_char and current_dialogue:\n",
    "            char_names.append(current_char)\n",
    "            episode_nums.append(episode_num.strip())\n",
    "            lines.append(' '.join(current_dialogue))\n",
    "\n",
    "# Create DataFrame\n",
    "df = pd.DataFrame({\n",
    "    'char_name': char_names,\n",
    "    'episode': episode_nums,\n",
    "    'line': lines\n",
    "})\n"
   ]
  },
  {
   "cell_type": "code",
   "execution_count": 271,
   "metadata": {},
   "outputs": [
    {
     "name": "stdout",
     "output_type": "stream",
     "text": [
      "\n",
      "Number of rows per episode:\n",
      "episode\n",
      "Episode 10: The Unknown                     164\n",
      "Episode 1: The Old Grist Mill               129\n",
      "Episode 2: Hard Times at the Huskin' Bee    178\n",
      "Episode 3: Schooltown Follies               149\n",
      "Episode 4: Songs of the Dark Lantern        184\n",
      "Episode 5: Mad Love                         178\n",
      "Episode 6: Lullaby in Frogland              158\n",
      "Episode 7: The Ringing of the Bell          182\n",
      "Episode 8: Babes in the Wood                104\n",
      "Episode 9: Into the Unknown                 196\n",
      "dtype: int64\n"
     ]
    }
   ],
   "source": [
    "# Add episode numbers for each chunk of dialogue\n",
    "# Episode 1: The Old Grist Mill\n",
    "df.loc[0:128, 'episode'] = \"Episode 1: The Old Grist Mill\"\n",
    "\n",
    "# Episode 2: Hard Times at the Huskin' Bee  \n",
    "df.loc[129:306, 'episode'] = \"Episode 2: Hard Times at the Huskin' Bee\" \n",
    "\n",
    "# Episode 3: Schooltown Follies\n",
    "df.loc[307:455, 'episode'] = \"Episode 3: Schooltown Follies\"\n",
    "\n",
    "# Episode 4: Songs of the Dark Lantern\n",
    "df.loc[456:639, 'episode'] = \"Episode 4: Songs of the Dark Lantern\"\n",
    "\n",
    "# Episode 5: Mad Love\n",
    "df.loc[640:817, 'episode'] = \"Episode 5: Mad Love\"\n",
    "\n",
    "# Episode 6: Lullaby in Frogland\n",
    "df.loc[818:975, 'episode'] = \"Episode 6: Lullaby in Frogland\"\n",
    "\n",
    "# Episode 7: The Ringing of the Bell\n",
    "df.loc[976:1157, 'episode'] = \"Episode 7: The Ringing of the Bell\"\n",
    "\n",
    "# Episode 8: Babes in the Wood  \n",
    "df.loc[1158:1261, 'episode'] = \"Episode 8: Babes in the Wood\"\n",
    "\n",
    "# Episode 9: Into the Unknown\n",
    "df.loc[1262:1457, 'episode'] = \"Episode 9: Into the Unknown\"\n",
    "\n",
    "# Episode 10: The Unknown\n",
    "df.loc[1458:1621, 'episode'] = \"Episode 10: The Unknown\"\n",
    "\n",
    "# Verify the episode numbers were added correctly\n",
    "print(\"\\nNumber of rows per episode:\")\n",
    "print(df.groupby('episode').size())\n"
   ]
  },
  {
   "cell_type": "markdown",
   "metadata": {},
   "source": [
    "### Basic Cleaning"
   ]
  },
  {
   "cell_type": "code",
   "execution_count": 272,
   "metadata": {},
   "outputs": [],
   "source": [
    "\n",
    "df = df[~df['char_name'].str.contains('Chapter', na=False)]\n",
    "df = df[~df['char_name'].str.startswith('[', na=False)]\n",
    "\n",
    "# Remove text within square brackets from the 'line' column while keeping other text\n",
    "df['line'] = df['line'].str.replace(r'\\[.*?\\]', '', regex=True).str.strip()\n",
    "df['line'] = df['line'].str.replace(r'\\(.*?\\)', '', regex=True).str.strip()\n",
    "\n",
    "# Remove '>>' from the start of character names\n",
    "df['char_name'] = df['char_name'].str.replace(r'^>>\\s*', '', regex=True)\n",
    "\n",
    "\n",
    "df['char_name'] = df['char_name'].str.replace(r'\\(.*?\\)', '', regex=True).str.strip()\n",
    "# Remove rows where 'line' is empty or null after cleaning\n",
    "df = df[df['line'].notna() & (df['line'] != '')]\n",
    "\n",
    "\n",
    "# Reset the index after filtering\n",
    "df = df.reset_index(drop=True)\n"
   ]
  },
  {
   "cell_type": "markdown",
   "metadata": {},
   "source": [
    "## Character Names Cleaning"
   ]
  },
  {
   "cell_type": "code",
   "execution_count": 273,
   "metadata": {},
   "outputs": [
    {
     "name": "stdout",
     "output_type": "stream",
     "text": [
      "\n",
      "All unique character names:\n",
      "A deer tries to blow into a trumpet, but it's taken away\n",
      "Adelaide\n",
      "All\n",
      "Angel\n",
      "Angel Sings\n",
      "Auntie Whispers\n",
      "Auxiliary Committee\n",
      "BWirt\n",
      "Beast\n",
      "Beatrice\n",
      "Beatrice & Fred the Horse\n",
      "Beatrice's Mom\n",
      "Beatrice's Mother\n",
      "Beatrice's mom\n",
      "Beatrice, backing away\n",
      "Beatrice, flying\n",
      "Beatrice, from atop a branch\n",
      "Beatrice, from within the bush\n",
      "Beatrice, offscreen\n",
      "Beatrice, on the ground by the crops\n",
      "Beatrice, sitting on Greg's teapot hat\n",
      "Beatrice, speaking to the horse\n",
      "Beatrice, taking off\n",
      "Both\n",
      "Both Wirt and Beatrice\n",
      "Braids Villager\n",
      "Carriage Driver\n",
      "Cherub\n",
      "Cleaning frog crew member\n",
      "Commitee Sings\n",
      "Committee Number Three\n",
      "Constable frog\n",
      "Enoch\n",
      "Fred the Horse\n",
      "Frog\n",
      "Frog Bassoon Player\n",
      "Frog Constable\n",
      "Frog Crewmember\n",
      "Frog Crowd\n",
      "Frog Lady\n",
      "George Washington\n",
      "George Washington sings\n",
      "George Washingtong continues singing\n",
      "Good Samaritan\n",
      "Gorilla\n",
      "Gramps Villager\n",
      "Gramps Villager, offscreen\n",
      "Greg\n",
      "Greg Sings\n",
      "Greg and Beatrice\n",
      "Greg contines singing\n",
      "Greg continues singing\n",
      "Greg salutes the Opossum\n",
      "Greg sings\n",
      "Greg starts singing\n",
      "Greg starts to sing\n",
      "Greg, after thinking for a moment\n",
      "Greg, crawling out of his ditch\n",
      "Greg, joining Wirt\n",
      "High School Boy\n",
      "Horse\n",
      "Jason\n",
      "Jason F\n",
      "Jason Funderberker\n",
      "Jimmy\n",
      "Kathleen\n",
      "Kathleen and Rhondi\n",
      "Larry\n",
      "Lorna\n",
      "Margueritte Grey\n",
      "Miss Langtree\n",
      "Miss Langtree starts to sing\n",
      "Miss Langtree, now on the floor and in lament, continues singing\n",
      "Miss. Langtree\n",
      "Mr. Langtree\n",
      "Mr. Langtree begins to take the instruments from the animals\n",
      "Mrs. Daniels\n",
      "Narrator\n",
      "Nerdy Girl\n",
      "Old North Wind\n",
      "Partygoer\n",
      "Peacock\n",
      "Pilgrim Pumpkin\n",
      "Pilgrim Villager\n",
      "Pilgrim Villager, nodding\n",
      "Police Officer\n",
      "Ponytails Villager\n",
      "Queen of the Clouds\n",
      "Quincy Endicott\n",
      "Quincy Endicott & Margueritte Grey\n",
      "Reception Committee\n",
      "Reception committee\n",
      "Rhondi\n",
      "Sara\n",
      "Singing\n",
      "Student\n",
      "Tavern Lady\n",
      "Tavern Lady, modeled after Betty Boop\n",
      "The Apprentice\n",
      "The Baker\n",
      "The Beast\n",
      "The Butcher\n",
      "The Highwayman\n",
      "The Highwayman starts to sing\n",
      "The Master\n",
      "The Midwife\n",
      "The Old North Wind SIngs\n",
      "The Tailor\n",
      "The Tavern Lady starts to sing\n",
      "The Toy Maker\n",
      "The Toy Maker starts to sing\n",
      "The Woodsman\n",
      "The Woodsman's Daughter\n",
      "The Wooodsman\n",
      "The song kicks up with the first verse once they look inside the barn\n",
      "Unknown Voice\n",
      "Very Old Cat\n",
      "Villager\n",
      "Villagers\n",
      "Villagers, cheering\n",
      "Wirt\n",
      "Wirt & Greg\n",
      "Wirt and Greg\n",
      "Wirt joins in\n",
      "Wirt whispers in dread\n",
      "Wirt, backing away\n",
      "Wirt, halfway out the ditch, lying in the dirt\n",
      "Wirt, hunched over and out of breath\n",
      "Wirt, offscreen\n",
      "Wirt, waking from his sleep\n",
      "Woodsman\n"
     ]
    }
   ],
   "source": [
    "# Print all unique character names\n",
    "print(\"\\nAll unique character names:\")\n",
    "print(*sorted(df['char_name'].unique()), sep=\"\\n\")\n"
   ]
  },
  {
   "cell_type": "code",
   "execution_count": 274,
   "metadata": {},
   "outputs": [
    {
     "name": "stdout",
     "output_type": "stream",
     "text": [
      "\n",
      "Lines with 'villager' in character name:\n",
      "     char_name                        line\n",
      "1292   Student           STOP! YOU HIT ME!\n",
      "1302   Student         WHAT ARE YOU DOING?\n",
      "1303   Student                      JASON.\n",
      "1304   Student                  OH, JASON.\n",
      "1312   Student                 LITTLE GUY.\n",
      "1315   Student                THERE HE IS.\n",
      "1316   Student  WIRT, WE CAN SEE YOU, MAN.\n"
     ]
    }
   ],
   "source": [
    "# Print all lines where character name contains 'villager'\n",
    "print(\"\\nLines with 'villager' in character name:\")\n",
    "villager_lines = df[df['char_name'].str.contains('student', case=False, na=False)]\n",
    "print(villager_lines[['char_name', 'line']].to_string())\n"
   ]
  },
  {
   "cell_type": "code",
   "execution_count": 275,
   "metadata": {},
   "outputs": [
    {
     "name": "stdout",
     "output_type": "stream",
     "text": [
      "\n",
      "Lines where character is '':\n",
      "\n",
      "Removed rows with invalid character name\n"
     ]
    }
   ],
   "source": [
    "# Standardize variations of Misc Characters\n",
    "variations = [\"A deer tries to blow into a trumpet, but it's taken away\"]\n",
    "df.loc[df['char_name'].str.contains('|'.join(variations), case=False, na=False), 'char_name'] = 'School House Deer'\n",
    "\n",
    "\n",
    "# Change 'All' to specific crowd names based on episode number\n",
    "df.loc[(df['char_name'] == 'All') & (df['episode'] == 'Episode 4: Songs of the Dark Lantern'), 'char_name'] = 'Tavern Crowd'\n",
    "df.loc[(df['char_name'] == 'All') & (df['episode'] == 'Episode 6: Lullaby in Frogland'), 'char_name'] = 'Frog Crowd' \n",
    "df.loc[(df['char_name'] == 'All' ) & (df['episode'] == 'Episode 8: Babes in the Wood'), 'char_name'] = 'Cloud Crowd'\n",
    "\n",
    "variations = [\"Angel\", \"Angel Sings\"]\n",
    "df.loc[df['char_name'].str.contains('|'.join(variations), case=False, na=False), 'char_name'] = 'Angel'\n",
    "\n",
    "df.loc[(df['char_name'] == 'Both') & (df['episode'] == 'Episode 6: Lullaby in Frogland'), 'char_name'] = 'Wirt and Greg'\n",
    "df.loc[(df['char_name'] == 'Both') & (df['episode'] == 'Episode 7: The Ringing of the Bell') & (df.index < 1030), 'char_name'] = 'Wirt and Lorna'\n",
    "df.loc[(df['char_name'] == 'Both') & (df['episode'] == 'Episode 7: The Ringing of the Bell') & (df.index > 1030), 'char_name'] = 'Wirt and Greg'    \n",
    "df.loc[(df['char_name'] == 'Both') & (df['episode'] == 'Episode 9: Into the Unknown'), 'char_name'] = 'Kathleen and Rhondi'\n",
    "\n",
    "variations = [\"Braids Villager\", \"Pilgrim Pumpkin\", \"Pilgrim Villager\", \"Gramps Villager\", \"Villager\"]\n",
    "df.loc[df['char_name'].str.contains('|'.join(variations), case=False, na=False), 'char_name'] = 'Pottsfield Villager'\n",
    "\n",
    "\n",
    "\n",
    "variations = [\"Frog Lady\"]\n",
    "df.loc[df['char_name'].str.contains('|'.join(variations), case=False, na=False), 'char_name'] = 'Frog Passenger'\n",
    "\n",
    "variations = [\"Constable frog\", \"Frog Constable\", \"Cleaning frog crew member\"]\n",
    "df.loc[df['char_name'].str.contains('|'.join(variations), case=False, na=False), 'char_name'] = 'Frog Crewmember'\n",
    "\n",
    "variations = [\"Frog\", \"George Washington\", \"George Washington sings\"]\n",
    "df.loc[df['char_name'].str.contains('|'.join(variations), case=False, na=False), 'char_name'] = '(Frog) Jason Funderberker'\n",
    "\n",
    "variations = [\"Good Samaritan\"]\n",
    "df.loc[df['char_name'].str.contains('|'.join(variations), case=False, na=False), 'char_name'] = 'Concert Guest'\n",
    "\n",
    "variations = [\"High School Boy\"]\n",
    "df.loc[df['char_name'].str.contains('|'.join(variations), case=False, na=False), 'char_name'] = 'Partygoer'\n",
    "\n",
    "variations = [\"Jason Funderberker\", \"Jason F\", \"Jason\"]\n",
    "df.loc[df['char_name'].str.contains('|'.join(variations), case=False, na=False) & ~df['char_name'].str.contains('Frog', case=False, na=False), 'char_name'] = 'Jason Funderberker'\n",
    "\n",
    "variations = [\"Miss Langtree starts to sing\", \"Miss Langtree, now on the floor and in lament, continues singing\", \"Miss. Langtree\"]\n",
    "df.loc[df['char_name'].str.contains('|'.join(variations), case=False, na=False), 'char_name'] = 'Miss Langtree'\n",
    "\n",
    "variations = [\"Mr. Langtree begins to take the instruments from the animals\"]\n",
    "df.loc[df['char_name'].str.contains('|'.join(variations), case=False, na=False), 'char_name'] = 'Mr. Langtree'\n",
    "\n",
    "variations = [\"Reception committee\"]\n",
    "df.loc[df['char_name'].str.contains('|'.join(variations), case=False, na=False), 'char_name'] = 'Reception Committee'\n",
    "\n",
    "variations = [\"Tavern Lady, modeled after Betty Boop\", \"The Tavern Lady starts to sing\"]\n",
    "df.loc[df['char_name'].str.contains('|'.join(variations), case=False, na=False), 'char_name'] = 'Tavern Lady'\n",
    "\n",
    "variations = [\"The Highwayman starts to sing\"]\n",
    "df.loc[df['char_name'].str.contains('|'.join(variations), case=False, na=False), 'char_name'] = 'The Highwayman'\n",
    "\n",
    "variations = [\"The Old North Wind SIngs\"]\n",
    "df.loc[df['char_name'].str.contains('|'.join(variations), case=False, na=False), 'char_name'] = 'Old North Wind'\n",
    "\n",
    "variations = [\"The Toy Maker starts to sing\", \"The Toy Maker\"]\n",
    "df.loc[df['char_name'].str.contains('|'.join(variations), case=False, na=False), 'char_name'] = 'The Toymaker'\n",
    "\n",
    "variations = [\"Unknown Voice\", \"Beast\"]\n",
    "df.loc[df['char_name'].str.contains('|'.join(variations), case=False, na=False), 'char_name'] = 'The Beast'\n",
    "\n",
    "variations = [\"Student\"]\n",
    "df.loc[df['char_name'].str.contains('|'.join(variations), case=False, na=False), 'char_name'] = 'Student at Graveyard'\n",
    "\n",
    "# Print lines where character name is 'All'\n",
    "print(\"\\nLines where character is '':\")\n",
    "df = df[df['char_name'] != 'The song kicks up with the first verse once they look inside the barn']\n",
    "print(\"\\nRemoved rows with invalid character name\")\n",
    "\n"
   ]
  },
  {
   "cell_type": "markdown",
   "metadata": {},
   "source": [
    "### Wirt"
   ]
  },
  {
   "cell_type": "code",
   "execution_count": 276,
   "metadata": {},
   "outputs": [
    {
     "name": "stdout",
     "output_type": "stream",
     "text": [
      "Character names containing 'Wirt':\n",
      "['BWirt', 'Both Wirt and Beatrice', 'Greg, joining Wirt', 'Wirt', 'Wirt & Greg', 'Wirt and Greg', 'Wirt and Lorna', 'Wirt joins in', 'Wirt whispers in dread', 'Wirt, backing away', 'Wirt, halfway out the ditch, lying in the dirt', 'Wirt, hunched over and out of breath', 'Wirt, offscreen', 'Wirt, waking from his sleep']\n"
     ]
    }
   ],
   "source": [
    "# Print character names containing 'wirt'\n",
    "print(\"Character names containing 'Wirt':\")\n",
    "print(sorted(df[df['char_name'].str.contains('wirt', case=False, na=False)]['char_name'].unique()))\n"
   ]
  },
  {
   "cell_type": "code",
   "execution_count": 277,
   "metadata": {},
   "outputs": [
    {
     "name": "stdout",
     "output_type": "stream",
     "text": [
      "\n",
      "Unique character names containing 'Wirt' after standardization:\n",
      "['Wirt', 'Wirt & Greg', 'Wirt and Greg', 'Wirt and Lorna']\n"
     ]
    }
   ],
   "source": [
    "# Standardize variations of 'Wirt' to just 'Wirt'\n",
    "wirt_variations = [' Wirt', 'BWirt', '>>Wirt', 'Wirt joins in', 'Wirt whispers in dread', 'Wirt, backing away', 'Wirt, halfway out the ditch, lying in the dirt', 'Wirt, hunched over and out of breath', 'Wirt, offscreen', 'Wirt, waking from his sleep']\n",
    "df.loc[df['char_name'].str.contains('|'.join(wirt_variations), case=False, na=False), 'char_name'] = 'Wirt'\n",
    "\n",
    "# Print to verify changes\n",
    "print(\"\\nUnique character names containing 'Wirt' after standardization:\")\n",
    "print(sorted(df[df['char_name'].str.contains('wirt', case=False, na=False)]['char_name'].unique()))\n"
   ]
  },
  {
   "cell_type": "markdown",
   "metadata": {},
   "source": [
    "### Greg"
   ]
  },
  {
   "cell_type": "code",
   "execution_count": 278,
   "metadata": {},
   "outputs": [
    {
     "name": "stdout",
     "output_type": "stream",
     "text": [
      "Character names containing 'Greg':\n",
      "[\"Beatrice, sitting on Greg's teapot hat\", 'Greg', 'Greg Sings', 'Greg and Beatrice', 'Greg contines singing', 'Greg continues singing', 'Greg salutes the Opossum', 'Greg sings', 'Greg starts singing', 'Greg starts to sing', 'Greg, after thinking for a moment', 'Greg, crawling out of his ditch', 'Wirt & Greg', 'Wirt and Greg']\n"
     ]
    }
   ],
   "source": [
    "# Print character names containing 'wirt'\n",
    "print(\"Character names containing 'Greg':\")\n",
    "print(sorted(df[df['char_name'].str.contains('greg', case=False, na=False)]['char_name'].unique()))\n"
   ]
  },
  {
   "cell_type": "code",
   "execution_count": 279,
   "metadata": {},
   "outputs": [
    {
     "name": "stdout",
     "output_type": "stream",
     "text": [
      "\n",
      "Unique character names containing 'Greg' after standardization:\n",
      "[\"Beatrice, sitting on Greg's teapot hat\", 'Greg', 'Greg and Beatrice', 'Wirt & Greg', 'Wirt and Greg']\n"
     ]
    },
    {
     "name": "stderr",
     "output_type": "stream",
     "text": [
      "C:\\Users\\Bangt\\AppData\\Local\\Temp\\ipykernel_22064\\1670767407.py:3: UserWarning: This pattern is interpreted as a regular expression, and has match groups. To actually get the groups, use str.extract.\n",
      "  df.loc[df['char_name'].str.contains('|'.join(greg_variations), case=False, na=False), 'char_name'] = 'Greg'\n"
     ]
    }
   ],
   "source": [
    "# Standardize variations of 'Greg' to just 'Greg'\n",
    "greg_variations = [f'Greg (threateningly)', 'Greg starts singing', '>>Greg', 'Greg, after thinking for a moment', 'Greg, crawling out of his ditch', 'Greg (threateningly)', 'Greg (threateningly)', 'Greg Sings', 'Greg contines singing', 'Greg continues singing', 'Greg salutes the Opossum', 'Greg sings', 'Greg starts to sing']\n",
    "df.loc[df['char_name'].str.contains('|'.join(greg_variations), case=False, na=False), 'char_name'] = 'Greg'\n",
    "\n",
    "# Print to verify changes\n",
    "print(\"\\nUnique character names containing 'Greg' after standardization:\")\n",
    "print(sorted(df[df['char_name'].str.contains('greg', case=False, na=False)]['char_name'].unique()))\n"
   ]
  },
  {
   "cell_type": "markdown",
   "metadata": {},
   "source": [
    "### Wirt and Greg"
   ]
  },
  {
   "cell_type": "code",
   "execution_count": 280,
   "metadata": {},
   "outputs": [
    {
     "name": "stdout",
     "output_type": "stream",
     "text": [
      "Character names containing 'Wirt and Greg':\n",
      "[\"Beatrice, sitting on Greg's teapot hat\", 'Greg', 'Greg and Beatrice', 'Wirt & Greg', 'Wirt and Greg']\n"
     ]
    }
   ],
   "source": [
    "# Print character names containing 'wirt'\n",
    "print(\"Character names containing 'Wirt and Greg':\")\n",
    "print(sorted(df[df['char_name'].str.contains('greg', case=False, na=False)]['char_name'].unique()))\n"
   ]
  },
  {
   "cell_type": "code",
   "execution_count": 281,
   "metadata": {},
   "outputs": [
    {
     "name": "stdout",
     "output_type": "stream",
     "text": [
      "\n",
      "Unique character names containing 'Greg' after standardization:\n",
      "[\"Beatrice, sitting on Greg's teapot hat\", 'Greg', 'Greg and Beatrice', 'Wirt and Greg']\n"
     ]
    }
   ],
   "source": [
    "# Standardize variations of 'Greg' to just 'Greg'\n",
    "greg_variations = [f'Wirt & Greg']\n",
    "df.loc[df['char_name'].str.contains('|'.join(greg_variations), case=False, na=False), 'char_name'] = 'Wirt and Greg'\n",
    "\n",
    "# Print to verify changes\n",
    "print(\"\\nUnique character names containing 'Greg' after standardization:\")\n",
    "print(sorted(df[df['char_name'].str.contains('greg', case=False, na=False)]['char_name'].unique()))\n"
   ]
  },
  {
   "cell_type": "markdown",
   "metadata": {},
   "source": [
    "### Beatrice"
   ]
  },
  {
   "cell_type": "code",
   "execution_count": 282,
   "metadata": {},
   "outputs": [
    {
     "name": "stdout",
     "output_type": "stream",
     "text": [
      "Character names containing 'Beatrice':\n",
      "['Beatrice', 'Beatrice & Fred the Horse', \"Beatrice's Mom\", \"Beatrice's Mother\", \"Beatrice's mom\", 'Beatrice, backing away', 'Beatrice, flying', 'Beatrice, from atop a branch', 'Beatrice, from within the bush', 'Beatrice, offscreen', 'Beatrice, on the ground by the crops', \"Beatrice, sitting on Greg's teapot hat\", 'Beatrice, speaking to the horse', 'Beatrice, taking off', 'Greg and Beatrice']\n"
     ]
    }
   ],
   "source": [
    "# Print character names containing 'wirt'\n",
    "print(\"Character names containing 'Beatrice':\")\n",
    "print(sorted(df[df['char_name'].str.contains('beatrice', case=False, na=False)]['char_name'].unique()))\n"
   ]
  },
  {
   "cell_type": "code",
   "execution_count": 283,
   "metadata": {},
   "outputs": [
    {
     "name": "stdout",
     "output_type": "stream",
     "text": [
      "\n",
      "Unique character names containing 'Beatrice' after standardization:\n",
      "['Beatrice', 'Beatrice & Fred the Horse', \"Beatrice's Mom\", \"Beatrice's Mother\", \"Beatrice's mom\", 'Greg and Beatrice']\n"
     ]
    }
   ],
   "source": [
    "# Standardize variations of 'Beatrice' to just 'Beatrice'\n",
    "beatrice_variations = ['Beatrice, backing away', 'Beatrice, flying', 'Beatrice, from atop a branch', 'Beatrice, from within the bush', 'Beatrice, offscreen', 'Beatrice, on the ground by the crops', \"Beatrice, sitting on Greg's teapot hat\", 'Beatrice, speaking to the horse', 'Beatrice, taking off']\n",
    "df.loc[df['char_name'].str.contains('|'.join(beatrice_variations), case=False, na=False), 'char_name'] = 'Beatrice'\n",
    "\n",
    "# Print to verify changes\n",
    "print(\"\\nUnique character names containing 'Beatrice' after standardization:\")\n",
    "print(sorted(df[df['char_name'].str.contains('beatrice', case=False, na=False)]['char_name'].unique()))\n"
   ]
  },
  {
   "cell_type": "markdown",
   "metadata": {},
   "source": [
    "### Beatrice's Mom"
   ]
  },
  {
   "cell_type": "code",
   "execution_count": 284,
   "metadata": {},
   "outputs": [
    {
     "name": "stdout",
     "output_type": "stream",
     "text": [
      "Character names containing 'Beatrice's Mom':\n",
      "['Beatrice', 'Beatrice & Fred the Horse', \"Beatrice's Mom\", \"Beatrice's Mother\", \"Beatrice's mom\", 'Greg and Beatrice']\n"
     ]
    }
   ],
   "source": [
    "# Print character names containing 'wirt'\n",
    "print(\"Character names containing 'Beatrice's Mom':\")\n",
    "print(sorted(df[df['char_name'].str.contains('beatrice', case=False, na=False)]['char_name'].unique()))\n"
   ]
  },
  {
   "cell_type": "code",
   "execution_count": 285,
   "metadata": {},
   "outputs": [
    {
     "name": "stdout",
     "output_type": "stream",
     "text": [
      "\n",
      "Unique character names containing 'Beatrice' after standardization:\n",
      "['Beatrice', 'Beatrice & Fred the Horse', \"Beatrice's Mom\", 'Greg and Beatrice']\n"
     ]
    }
   ],
   "source": [
    "# Standardize variations of 'Beatrice' to just 'Beatrice'\n",
    "beatrice_variations = [\"Beatrice's Mother\", \"Beatrice's mom\"]\n",
    "df.loc[df['char_name'].str.contains('|'.join(beatrice_variations), case=False, na=False), 'char_name'] = \"Beatrice's Mom\"\n",
    "\n",
    "# Print to verify changes\n",
    "print(\"\\nUnique character names containing 'Beatrice' after standardization:\")\n",
    "print(sorted(df[df['char_name'].str.contains('beatrice', case=False, na=False)]['char_name'].unique()))\n"
   ]
  },
  {
   "cell_type": "code",
   "execution_count": 286,
   "metadata": {},
   "outputs": [
    {
     "name": "stdout",
     "output_type": "stream",
     "text": [
      "Character names containing 'Woodsman':\n",
      "['The Woodsman', \"The Woodsman's Daughter\", 'Woodsman']\n"
     ]
    }
   ],
   "source": [
    "### Woodsman\n",
    "# Print character names containing 'woodsman'\n",
    "print(\"Character names containing 'Woodsman':\")\n",
    "print(sorted(df[df['char_name'].str.contains('woodsman', case=False, na=False)]['char_name'].unique()))\n",
    "\n",
    "# Standardize variations of 'Woodsman' to just 'Woodsman'\n",
    "woodsman_variations = ['Woodsman', 'The Wooodsman', 'The Woodsman']\n",
    "df.loc[df['char_name'].str.contains('|'.join(woodsman_variations), case=False, na=False), 'char_name'] = 'The Woodsman'\n"
   ]
  },
  {
   "cell_type": "code",
   "execution_count": null,
   "metadata": {},
   "outputs": [],
   "source": [
    "\n"
   ]
  },
  {
   "cell_type": "markdown",
   "metadata": {},
   "source": [
    "## Save to CSV"
   ]
  },
  {
   "cell_type": "code",
   "execution_count": 288,
   "metadata": {},
   "outputs": [
    {
     "name": "stdout",
     "output_type": "stream",
     "text": [
      "Data saved to cleaned_over_the_garden_wall_dialogue.csv\n"
     ]
    }
   ],
   "source": [
    "# Save the cleaned dataframe to a CSV file\n",
    "df.to_csv('data/cleaned_over_the_garden_wall_dialogue.csv', index=False)\n",
    "print(\"Data saved to cleaned_over_the_garden_wall_dialogue.csv\")\n"
   ]
  },
  {
   "cell_type": "code",
   "execution_count": null,
   "metadata": {},
   "outputs": [],
   "source": []
  },
  {
   "cell_type": "code",
   "execution_count": null,
   "metadata": {},
   "outputs": [],
   "source": []
  },
  {
   "cell_type": "code",
   "execution_count": null,
   "metadata": {},
   "outputs": [],
   "source": []
  },
  {
   "cell_type": "code",
   "execution_count": null,
   "metadata": {},
   "outputs": [],
   "source": []
  },
  {
   "cell_type": "code",
   "execution_count": null,
   "metadata": {},
   "outputs": [],
   "source": []
  },
  {
   "cell_type": "code",
   "execution_count": null,
   "metadata": {},
   "outputs": [],
   "source": []
  },
  {
   "cell_type": "code",
   "execution_count": null,
   "metadata": {},
   "outputs": [],
   "source": []
  },
  {
   "cell_type": "code",
   "execution_count": null,
   "metadata": {},
   "outputs": [],
   "source": []
  },
  {
   "cell_type": "code",
   "execution_count": null,
   "metadata": {},
   "outputs": [],
   "source": []
  }
 ],
 "metadata": {
  "kernelspec": {
   "display_name": "Python 3",
   "language": "python",
   "name": "python3"
  },
  "language_info": {
   "codemirror_mode": {
    "name": "ipython",
    "version": 3
   },
   "file_extension": ".py",
   "mimetype": "text/x-python",
   "name": "python",
   "nbconvert_exporter": "python",
   "pygments_lexer": "ipython3",
   "version": "3.12.5"
  }
 },
 "nbformat": 4,
 "nbformat_minor": 2
}
